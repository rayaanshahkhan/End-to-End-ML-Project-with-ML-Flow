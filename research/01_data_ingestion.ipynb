{
 "cells": [
  {
   "cell_type": "code",
   "execution_count": 23,
   "id": "961365f0",
   "metadata": {},
   "outputs": [],
   "source": [
    "import os\n",
    "import sys\n",
    "sys.path.append(os.path.abspath(\"../src\"))\n"
   ]
  },
  {
   "cell_type": "code",
   "execution_count": 20,
   "id": "9000968c",
   "metadata": {},
   "outputs": [
    {
     "data": {
      "text/plain": [
       "'c:\\\\Users\\\\Rayaan\\\\Desktop\\\\ML_Project\\\\End-to-End-ML-Project-with-ML-Flow\\\\research'"
      ]
     },
     "execution_count": 20,
     "metadata": {},
     "output_type": "execute_result"
    }
   ],
   "source": [
    "%pwd"
   ]
  },
  {
   "cell_type": "code",
   "execution_count": 9,
   "id": "d01f3772",
   "metadata": {},
   "outputs": [],
   "source": [
    "from dataclasses import dataclass\n",
    "from pathlib import Path\n",
    "\n",
    "@dataclass(frozen=True)\n",
    "class DataIngestionConfig:\n",
    "    root_dir: Path\n",
    "    source_URL: str\n",
    "    local_data_file: Path\n",
    "    unzip_dir: Path"
   ]
  },
  {
   "cell_type": "code",
   "execution_count": 26,
   "id": "3574d669",
   "metadata": {},
   "outputs": [],
   "source": [
    "from mlProject.constants import *\n",
    "from mlProject.utils.common import read_yaml, create_directories"
   ]
  },
  {
   "cell_type": "code",
   "execution_count": 28,
   "id": "a2984913",
   "metadata": {},
   "outputs": [],
   "source": [
    "class ConfigurationManager:\n",
    "    def __init__(\n",
    "        self,\n",
    "        config_filepath = CONFIG_FILE_PATH,\n",
    "        params_filepath = PARAMS_FILE_PATH,\n",
    "        schema_filepath = SCHEMA_FILE_PATH,\n",
    "    ):\n",
    "        self.config = read_yaml(config_filepath)\n",
    "        self.params = read_yaml(params_filepath)\n",
    "        self.schema = read_yaml(schema_filepath)\n",
    "        create_directories([self.config.artifacts_root])\n",
    "\n",
    "    def get_data_ingestion_config(self) -> DataIngestionConfig:\n",
    "        config = self.config.data_ingestion\n",
    "\n",
    "        create_directories([config.root_dir])\n",
    "\n",
    "        data_ingestion_config = DataIngestionConfig(\n",
    "            root_dir=Path(config.root_dir),\n",
    "            source_URL=config.source_URL,\n",
    "            local_data_file=Path(config.local_data_file),\n",
    "            unzip_dir=Path(config.unzip_dir),\n",
    "        )\n",
    "\n",
    "        return data_ingestion_config\n",
    "    \n",
    "   "
   ]
  },
  {
   "cell_type": "code",
   "execution_count": 29,
   "id": "04bdce3f",
   "metadata": {},
   "outputs": [],
   "source": [
    "import os\n",
    "import urllib.request as request\n",
    "import zipfile\n",
    "from mlProject import logger\n",
    "from mlProject.utils.common import get_size"
   ]
  },
  {
   "cell_type": "code",
   "execution_count": 32,
   "id": "11a8c3f6",
   "metadata": {},
   "outputs": [],
   "source": [
    "class DataIngestion:\n",
    "    def __init__(self, config: DataIngestionConfig):\n",
    "        self.config = config\n",
    "\n",
    "    def download_file(self):\n",
    "        if not os.path.exists(self.config.local_data_file):\n",
    "            filename, headers = request.urlretrieve(\n",
    "                url=self.config.source_URL,\n",
    "                filename=self.config.local_data_file,\n",
    "            )\n",
    "            logger.info(f\"{filename} downloaded! with following info: \\n{headers}\")\n",
    "        else:\n",
    "            logger.info(f\"File already exists of size: {get_size(Path(self.config.local_data_file))}\")\n",
    "\n",
    "        return self.config.local_data_file\n",
    "\n",
    "    def extract_zip_file(self):\n",
    "        unzip_path = self.config.unzip_dir\n",
    "        os.makedirs(unzip_path, exist_ok=True)\n",
    "        with zipfile.ZipFile(self.config.local_data_file, 'r') as zip_ref:\n",
    "                zip_ref.extractall(unzip_path)\n",
    "            "
   ]
  },
  {
   "cell_type": "code",
   "execution_count": 35,
   "id": "5801cac5",
   "metadata": {},
   "outputs": [
    {
     "name": "stdout",
     "output_type": "stream",
     "text": [
      "C:\\Users\\Rayaan\\Desktop\\ML_Project\\End-to-End-ML-Project-with-ML-Flow\n"
     ]
    }
   ],
   "source": [
    "import os\n",
    "\n",
    "# Go to the project root\n",
    "os.chdir(r\"C:\\Users\\Rayaan\\Desktop\\ML_Project\\End-to-End-ML-Project-with-ML-Flow\")\n",
    "\n",
    "# Verify\n",
    "print(os.getcwd())  # should print the project root path\n"
   ]
  },
  {
   "cell_type": "code",
   "execution_count": 43,
   "id": "deb01bd1",
   "metadata": {},
   "outputs": [
    {
     "name": "stdout",
     "output_type": "stream",
     "text": [
      "[2025-08-27 13:27:13,608: INFO: common: yaml file: config\\config.yaml loaded successfully]\n",
      "[2025-08-27 13:27:13,613: INFO: common: yaml file: params.yaml loaded successfully]\n",
      "[2025-08-27 13:27:13,616: INFO: common: yaml file: schema.yaml loaded successfully]\n",
      "[2025-08-27 13:27:13,618: INFO: common: created directory at: artifacts]\n",
      "[2025-08-27 13:27:13,621: INFO: common: created directory at: artifacts/data_ingestion]\n",
      "[2025-08-27 13:27:14,496: INFO: 3297616639: artifacts\\data_ingestion\\data.zip downloaded! with following info: \n",
      "Connection: close\n",
      "Content-Length: 23531\n",
      "Cache-Control: max-age=300\n",
      "Content-Security-Policy: default-src 'none'; style-src 'unsafe-inline'; sandbox\n",
      "Content-Type: application/zip\n",
      "ETag: \"573a2f3952efd60cd556c1df37b2f46738e66caec964f046751ab96b314fd33f\"\n",
      "Strict-Transport-Security: max-age=31536000\n",
      "X-Content-Type-Options: nosniff\n",
      "X-Frame-Options: deny\n",
      "X-XSS-Protection: 1; mode=block\n",
      "X-GitHub-Request-Id: D605:3EA1D2:74341:14F785:68AEB48A\n",
      "Accept-Ranges: bytes\n",
      "Date: Wed, 27 Aug 2025 07:57:14 GMT\n",
      "Via: 1.1 varnish\n",
      "X-Served-By: cache-bom-vanm7210024-BOM\n",
      "X-Cache: HIT\n",
      "X-Cache-Hits: 0\n",
      "X-Timer: S1756281434.318129,VS0,VE221\n",
      "Vary: Authorization,Accept-Encoding\n",
      "Access-Control-Allow-Origin: *\n",
      "Cross-Origin-Resource-Policy: cross-origin\n",
      "X-Fastly-Request-ID: eb7b82de5e2b53528f1845fcb3488b7e064493ac\n",
      "Expires: Wed, 27 Aug 2025 08:02:14 GMT\n",
      "Source-Age: 0\n",
      "\n",
      "]\n"
     ]
    }
   ],
   "source": [
    "try:\n",
    "    config = ConfigurationManager()\n",
    "    data_ingestion_config = config.get_data_ingestion_config()\n",
    "    data_ingestion = DataIngestion(config=data_ingestion_config)\n",
    "    data_ingestion.download_file()\n",
    "    data_ingestion.extract_zip_file()\n",
    "except Exception as e:\n",
    "    raise e"
   ]
  },
  {
   "cell_type": "code",
   "execution_count": 45,
   "id": "9ce5e573",
   "metadata": {},
   "outputs": [
    {
     "name": "stdout",
     "output_type": "stream",
     "text": [
      "After first extraction: ['data.zip', 'winequality-data.zip']\n",
      "After second extraction: ['data.zip', 'winequality-data.zip', 'winequality-red.csv']\n"
     ]
    }
   ],
   "source": [
    "import zipfile\n",
    "import os\n",
    "\n",
    "# Paths\n",
    "outer_zip = \"artifacts/data_ingestion/data.zip\"\n",
    "unzip_dir = \"artifacts/data_ingestion\"\n",
    "\n",
    "# Ensure directory exists\n",
    "os.makedirs(unzip_dir, exist_ok=True)\n",
    "\n",
    "# Extract outer zip\n",
    "with zipfile.ZipFile(outer_zip, 'r') as zip_ref:\n",
    "    zip_ref.extractall(unzip_dir)\n",
    "\n",
    "# Check files after extraction\n",
    "print(\"After first extraction:\", os.listdir(unzip_dir))\n",
    "\n",
    "# Find inner zip\n",
    "inner_zip = os.path.join(unzip_dir, \"winequality-data.zip\")\n",
    "\n",
    "# Extract inner zip\n",
    "with zipfile.ZipFile(inner_zip, 'r') as zip_ref:\n",
    "    zip_ref.extractall(unzip_dir)\n",
    "\n",
    "print(\"After second extraction:\", os.listdir(unzip_dir))\n"
   ]
  },
  {
   "cell_type": "code",
   "execution_count": null,
   "id": "dc38bb35",
   "metadata": {},
   "outputs": [],
   "source": [
    " "
   ]
  }
 ],
 "metadata": {
  "kernelspec": {
   "display_name": "mlproj",
   "language": "python",
   "name": "python3"
  },
  "language_info": {
   "codemirror_mode": {
    "name": "ipython",
    "version": 3
   },
   "file_extension": ".py",
   "mimetype": "text/x-python",
   "name": "python",
   "nbconvert_exporter": "python",
   "pygments_lexer": "ipython3",
   "version": "3.13.5"
  }
 },
 "nbformat": 4,
 "nbformat_minor": 5
}
